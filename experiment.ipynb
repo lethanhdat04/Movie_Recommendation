{
 "cells": [
  {
   "cell_type": "code",
   "execution_count": 1,
   "metadata": {
    "_uuid": "c1fdd129c1cbab68ae3e6bf2062575f01f80b87c",
    "execution": {
     "iopub.execute_input": "2025-06-13T20:34:23.131915Z",
     "iopub.status.busy": "2025-06-13T20:34:23.131517Z",
     "iopub.status.idle": "2025-06-13T20:34:24.153879Z",
     "shell.execute_reply": "2025-06-13T20:34:24.153223Z",
     "shell.execute_reply.started": "2025-06-13T20:34:23.131859Z"
    },
    "trusted": true
   },
   "outputs": [],
   "source": [
    "import pandas as pd \n",
    "import numpy as np \n",
    "import seaborn as sns\n",
    "\n",
    "df1 = pd.read_csv('dataset/tmdb-movie-metadata/tmdb_5000_credits.csv')\n",
    "df2 = pd.read_csv('dataset/tmdb-movie-metadata/tmdb_5000_movies.csv')"
   ]
  },
  {
   "cell_type": "code",
   "execution_count": 2,
   "metadata": {
    "_uuid": "c87bda9d56a936be126d03eda0bc743ee35be461",
    "execution": {
     "iopub.execute_input": "2025-06-13T20:34:24.155289Z",
     "iopub.status.busy": "2025-06-13T20:34:24.155074Z",
     "iopub.status.idle": "2025-06-13T20:34:24.178823Z",
     "shell.execute_reply": "2025-06-13T20:34:24.178154Z",
     "shell.execute_reply.started": "2025-06-13T20:34:24.155247Z"
    },
    "trusted": true
   },
   "outputs": [],
   "source": [
    "df1.columns = ['id','tittle','cast','crew']\n",
    "df2= df2.merge(df1,on='id')"
   ]
  },
  {
   "cell_type": "markdown",
   "metadata": {
    "_uuid": "e88ed16f798ec3a094fce8aaf8a971f7b2aae83e"
   },
   "source": [
    "Just a peak at our data."
   ]
  },
  {
   "cell_type": "code",
   "execution_count": 3,
   "metadata": {
    "_uuid": "71d266ed92947c51acf07189d3b42379134ef6e7",
    "execution": {
     "iopub.execute_input": "2025-06-13T20:34:24.180388Z",
     "iopub.status.busy": "2025-06-13T20:34:24.180085Z",
     "iopub.status.idle": "2025-06-13T20:34:24.242253Z",
     "shell.execute_reply": "2025-06-13T20:34:24.241424Z",
     "shell.execute_reply.started": "2025-06-13T20:34:24.180281Z"
    },
    "trusted": true
   },
   "outputs": [
    {
     "data": {
      "text/html": [
       "<div>\n",
       "<style scoped>\n",
       "    .dataframe tbody tr th:only-of-type {\n",
       "        vertical-align: middle;\n",
       "    }\n",
       "\n",
       "    .dataframe tbody tr th {\n",
       "        vertical-align: top;\n",
       "    }\n",
       "\n",
       "    .dataframe thead th {\n",
       "        text-align: right;\n",
       "    }\n",
       "</style>\n",
       "<table border=\"1\" class=\"dataframe\">\n",
       "  <thead>\n",
       "    <tr style=\"text-align: right;\">\n",
       "      <th></th>\n",
       "      <th>budget</th>\n",
       "      <th>genres</th>\n",
       "      <th>homepage</th>\n",
       "      <th>id</th>\n",
       "      <th>keywords</th>\n",
       "      <th>original_language</th>\n",
       "      <th>original_title</th>\n",
       "      <th>overview</th>\n",
       "      <th>popularity</th>\n",
       "      <th>production_companies</th>\n",
       "      <th>...</th>\n",
       "      <th>runtime</th>\n",
       "      <th>spoken_languages</th>\n",
       "      <th>status</th>\n",
       "      <th>tagline</th>\n",
       "      <th>title</th>\n",
       "      <th>vote_average</th>\n",
       "      <th>vote_count</th>\n",
       "      <th>tittle</th>\n",
       "      <th>cast</th>\n",
       "      <th>crew</th>\n",
       "    </tr>\n",
       "  </thead>\n",
       "  <tbody>\n",
       "    <tr>\n",
       "      <th>0</th>\n",
       "      <td>237000000</td>\n",
       "      <td>[{\"id\": 28, \"name\": \"Action\"}, {\"id\": 12, \"nam...</td>\n",
       "      <td>http://www.avatarmovie.com/</td>\n",
       "      <td>19995</td>\n",
       "      <td>[{\"id\": 1463, \"name\": \"culture clash\"}, {\"id\":...</td>\n",
       "      <td>en</td>\n",
       "      <td>Avatar</td>\n",
       "      <td>In the 22nd century, a paraplegic Marine is di...</td>\n",
       "      <td>150.437577</td>\n",
       "      <td>[{\"name\": \"Ingenious Film Partners\", \"id\": 289...</td>\n",
       "      <td>...</td>\n",
       "      <td>162.0</td>\n",
       "      <td>[{\"iso_639_1\": \"en\", \"name\": \"English\"}, {\"iso...</td>\n",
       "      <td>Released</td>\n",
       "      <td>Enter the World of Pandora.</td>\n",
       "      <td>Avatar</td>\n",
       "      <td>7.2</td>\n",
       "      <td>11800</td>\n",
       "      <td>Avatar</td>\n",
       "      <td>[{\"cast_id\": 242, \"character\": \"Jake Sully\", \"...</td>\n",
       "      <td>[{\"credit_id\": \"52fe48009251416c750aca23\", \"de...</td>\n",
       "    </tr>\n",
       "    <tr>\n",
       "      <th>1</th>\n",
       "      <td>300000000</td>\n",
       "      <td>[{\"id\": 12, \"name\": \"Adventure\"}, {\"id\": 14, \"...</td>\n",
       "      <td>http://disney.go.com/disneypictures/pirates/</td>\n",
       "      <td>285</td>\n",
       "      <td>[{\"id\": 270, \"name\": \"ocean\"}, {\"id\": 726, \"na...</td>\n",
       "      <td>en</td>\n",
       "      <td>Pirates of the Caribbean: At World's End</td>\n",
       "      <td>Captain Barbossa, long believed to be dead, ha...</td>\n",
       "      <td>139.082615</td>\n",
       "      <td>[{\"name\": \"Walt Disney Pictures\", \"id\": 2}, {\"...</td>\n",
       "      <td>...</td>\n",
       "      <td>169.0</td>\n",
       "      <td>[{\"iso_639_1\": \"en\", \"name\": \"English\"}]</td>\n",
       "      <td>Released</td>\n",
       "      <td>At the end of the world, the adventure begins.</td>\n",
       "      <td>Pirates of the Caribbean: At World's End</td>\n",
       "      <td>6.9</td>\n",
       "      <td>4500</td>\n",
       "      <td>Pirates of the Caribbean: At World's End</td>\n",
       "      <td>[{\"cast_id\": 4, \"character\": \"Captain Jack Spa...</td>\n",
       "      <td>[{\"credit_id\": \"52fe4232c3a36847f800b579\", \"de...</td>\n",
       "    </tr>\n",
       "    <tr>\n",
       "      <th>2</th>\n",
       "      <td>245000000</td>\n",
       "      <td>[{\"id\": 28, \"name\": \"Action\"}, {\"id\": 12, \"nam...</td>\n",
       "      <td>http://www.sonypictures.com/movies/spectre/</td>\n",
       "      <td>206647</td>\n",
       "      <td>[{\"id\": 470, \"name\": \"spy\"}, {\"id\": 818, \"name...</td>\n",
       "      <td>en</td>\n",
       "      <td>Spectre</td>\n",
       "      <td>A cryptic message from Bond’s past sends him o...</td>\n",
       "      <td>107.376788</td>\n",
       "      <td>[{\"name\": \"Columbia Pictures\", \"id\": 5}, {\"nam...</td>\n",
       "      <td>...</td>\n",
       "      <td>148.0</td>\n",
       "      <td>[{\"iso_639_1\": \"fr\", \"name\": \"Fran\\u00e7ais\"},...</td>\n",
       "      <td>Released</td>\n",
       "      <td>A Plan No One Escapes</td>\n",
       "      <td>Spectre</td>\n",
       "      <td>6.3</td>\n",
       "      <td>4466</td>\n",
       "      <td>Spectre</td>\n",
       "      <td>[{\"cast_id\": 1, \"character\": \"James Bond\", \"cr...</td>\n",
       "      <td>[{\"credit_id\": \"54805967c3a36829b5002c41\", \"de...</td>\n",
       "    </tr>\n",
       "    <tr>\n",
       "      <th>3</th>\n",
       "      <td>250000000</td>\n",
       "      <td>[{\"id\": 28, \"name\": \"Action\"}, {\"id\": 80, \"nam...</td>\n",
       "      <td>http://www.thedarkknightrises.com/</td>\n",
       "      <td>49026</td>\n",
       "      <td>[{\"id\": 849, \"name\": \"dc comics\"}, {\"id\": 853,...</td>\n",
       "      <td>en</td>\n",
       "      <td>The Dark Knight Rises</td>\n",
       "      <td>Following the death of District Attorney Harve...</td>\n",
       "      <td>112.312950</td>\n",
       "      <td>[{\"name\": \"Legendary Pictures\", \"id\": 923}, {\"...</td>\n",
       "      <td>...</td>\n",
       "      <td>165.0</td>\n",
       "      <td>[{\"iso_639_1\": \"en\", \"name\": \"English\"}]</td>\n",
       "      <td>Released</td>\n",
       "      <td>The Legend Ends</td>\n",
       "      <td>The Dark Knight Rises</td>\n",
       "      <td>7.6</td>\n",
       "      <td>9106</td>\n",
       "      <td>The Dark Knight Rises</td>\n",
       "      <td>[{\"cast_id\": 2, \"character\": \"Bruce Wayne / Ba...</td>\n",
       "      <td>[{\"credit_id\": \"52fe4781c3a36847f81398c3\", \"de...</td>\n",
       "    </tr>\n",
       "    <tr>\n",
       "      <th>4</th>\n",
       "      <td>260000000</td>\n",
       "      <td>[{\"id\": 28, \"name\": \"Action\"}, {\"id\": 12, \"nam...</td>\n",
       "      <td>http://movies.disney.com/john-carter</td>\n",
       "      <td>49529</td>\n",
       "      <td>[{\"id\": 818, \"name\": \"based on novel\"}, {\"id\":...</td>\n",
       "      <td>en</td>\n",
       "      <td>John Carter</td>\n",
       "      <td>John Carter is a war-weary, former military ca...</td>\n",
       "      <td>43.926995</td>\n",
       "      <td>[{\"name\": \"Walt Disney Pictures\", \"id\": 2}]</td>\n",
       "      <td>...</td>\n",
       "      <td>132.0</td>\n",
       "      <td>[{\"iso_639_1\": \"en\", \"name\": \"English\"}]</td>\n",
       "      <td>Released</td>\n",
       "      <td>Lost in our world, found in another.</td>\n",
       "      <td>John Carter</td>\n",
       "      <td>6.1</td>\n",
       "      <td>2124</td>\n",
       "      <td>John Carter</td>\n",
       "      <td>[{\"cast_id\": 5, \"character\": \"John Carter\", \"c...</td>\n",
       "      <td>[{\"credit_id\": \"52fe479ac3a36847f813eaa3\", \"de...</td>\n",
       "    </tr>\n",
       "  </tbody>\n",
       "</table>\n",
       "<p>5 rows × 23 columns</p>\n",
       "</div>"
      ],
      "text/plain": [
       "      budget                                             genres  \\\n",
       "0  237000000  [{\"id\": 28, \"name\": \"Action\"}, {\"id\": 12, \"nam...   \n",
       "1  300000000  [{\"id\": 12, \"name\": \"Adventure\"}, {\"id\": 14, \"...   \n",
       "2  245000000  [{\"id\": 28, \"name\": \"Action\"}, {\"id\": 12, \"nam...   \n",
       "3  250000000  [{\"id\": 28, \"name\": \"Action\"}, {\"id\": 80, \"nam...   \n",
       "4  260000000  [{\"id\": 28, \"name\": \"Action\"}, {\"id\": 12, \"nam...   \n",
       "\n",
       "                                       homepage      id  \\\n",
       "0                   http://www.avatarmovie.com/   19995   \n",
       "1  http://disney.go.com/disneypictures/pirates/     285   \n",
       "2   http://www.sonypictures.com/movies/spectre/  206647   \n",
       "3            http://www.thedarkknightrises.com/   49026   \n",
       "4          http://movies.disney.com/john-carter   49529   \n",
       "\n",
       "                                            keywords original_language  \\\n",
       "0  [{\"id\": 1463, \"name\": \"culture clash\"}, {\"id\":...                en   \n",
       "1  [{\"id\": 270, \"name\": \"ocean\"}, {\"id\": 726, \"na...                en   \n",
       "2  [{\"id\": 470, \"name\": \"spy\"}, {\"id\": 818, \"name...                en   \n",
       "3  [{\"id\": 849, \"name\": \"dc comics\"}, {\"id\": 853,...                en   \n",
       "4  [{\"id\": 818, \"name\": \"based on novel\"}, {\"id\":...                en   \n",
       "\n",
       "                             original_title  \\\n",
       "0                                    Avatar   \n",
       "1  Pirates of the Caribbean: At World's End   \n",
       "2                                   Spectre   \n",
       "3                     The Dark Knight Rises   \n",
       "4                               John Carter   \n",
       "\n",
       "                                            overview  popularity  \\\n",
       "0  In the 22nd century, a paraplegic Marine is di...  150.437577   \n",
       "1  Captain Barbossa, long believed to be dead, ha...  139.082615   \n",
       "2  A cryptic message from Bond’s past sends him o...  107.376788   \n",
       "3  Following the death of District Attorney Harve...  112.312950   \n",
       "4  John Carter is a war-weary, former military ca...   43.926995   \n",
       "\n",
       "                                production_companies  ... runtime  \\\n",
       "0  [{\"name\": \"Ingenious Film Partners\", \"id\": 289...  ...   162.0   \n",
       "1  [{\"name\": \"Walt Disney Pictures\", \"id\": 2}, {\"...  ...   169.0   \n",
       "2  [{\"name\": \"Columbia Pictures\", \"id\": 5}, {\"nam...  ...   148.0   \n",
       "3  [{\"name\": \"Legendary Pictures\", \"id\": 923}, {\"...  ...   165.0   \n",
       "4        [{\"name\": \"Walt Disney Pictures\", \"id\": 2}]  ...   132.0   \n",
       "\n",
       "                                    spoken_languages    status  \\\n",
       "0  [{\"iso_639_1\": \"en\", \"name\": \"English\"}, {\"iso...  Released   \n",
       "1           [{\"iso_639_1\": \"en\", \"name\": \"English\"}]  Released   \n",
       "2  [{\"iso_639_1\": \"fr\", \"name\": \"Fran\\u00e7ais\"},...  Released   \n",
       "3           [{\"iso_639_1\": \"en\", \"name\": \"English\"}]  Released   \n",
       "4           [{\"iso_639_1\": \"en\", \"name\": \"English\"}]  Released   \n",
       "\n",
       "                                          tagline  \\\n",
       "0                     Enter the World of Pandora.   \n",
       "1  At the end of the world, the adventure begins.   \n",
       "2                           A Plan No One Escapes   \n",
       "3                                 The Legend Ends   \n",
       "4            Lost in our world, found in another.   \n",
       "\n",
       "                                      title vote_average vote_count  \\\n",
       "0                                    Avatar          7.2      11800   \n",
       "1  Pirates of the Caribbean: At World's End          6.9       4500   \n",
       "2                                   Spectre          6.3       4466   \n",
       "3                     The Dark Knight Rises          7.6       9106   \n",
       "4                               John Carter          6.1       2124   \n",
       "\n",
       "                                     tittle  \\\n",
       "0                                    Avatar   \n",
       "1  Pirates of the Caribbean: At World's End   \n",
       "2                                   Spectre   \n",
       "3                     The Dark Knight Rises   \n",
       "4                               John Carter   \n",
       "\n",
       "                                                cast  \\\n",
       "0  [{\"cast_id\": 242, \"character\": \"Jake Sully\", \"...   \n",
       "1  [{\"cast_id\": 4, \"character\": \"Captain Jack Spa...   \n",
       "2  [{\"cast_id\": 1, \"character\": \"James Bond\", \"cr...   \n",
       "3  [{\"cast_id\": 2, \"character\": \"Bruce Wayne / Ba...   \n",
       "4  [{\"cast_id\": 5, \"character\": \"John Carter\", \"c...   \n",
       "\n",
       "                                                crew  \n",
       "0  [{\"credit_id\": \"52fe48009251416c750aca23\", \"de...  \n",
       "1  [{\"credit_id\": \"52fe4232c3a36847f800b579\", \"de...  \n",
       "2  [{\"credit_id\": \"54805967c3a36829b5002c41\", \"de...  \n",
       "3  [{\"credit_id\": \"52fe4781c3a36847f81398c3\", \"de...  \n",
       "4  [{\"credit_id\": \"52fe479ac3a36847f813eaa3\", \"de...  \n",
       "\n",
       "[5 rows x 23 columns]"
      ]
     },
     "execution_count": 3,
     "metadata": {},
     "output_type": "execute_result"
    }
   ],
   "source": [
    "df2.head(5)"
   ]
  },
  {
   "cell_type": "markdown",
   "metadata": {
    "_uuid": "ee603279675033fc397f0c94738e20b34f35312b"
   },
   "source": [
    "# **Demographic Filtering** -\n",
    "   Before getting started with this  -\n",
    "* we need a metric to score or rate a movie \n",
    "* Calculate the score for every movie \n",
    "* Sort the scores and recommend the best rated movie to the users.\n",
    "\n",
    "We can use the average ratings of the movie as the score but using this won't be fair enough since a movie with 8.9 average rating and only 3 votes cannot be considered better than the movie with 7.8 as as average rating but 40 votes.\n",
    "So, I'll be using IMDB's weighted rating (wr) which is given as :-\n",
    "\n",
    "![](https://image.ibb.co/jYWZp9/wr.png)\n",
    "where,\n",
    "* v is the number of votes for the movie;\n",
    "* m is the minimum votes required to be listed in the chart;\n",
    "* R is the average rating of the movie; And\n",
    "* C is the mean vote across the whole report\n",
    "\n",
    "We already have v(**vote_count**) and R (**vote_average**) and C can be calculated as "
   ]
  },
  {
   "cell_type": "code",
   "execution_count": 4,
   "metadata": {
    "_uuid": "5799b99c5e5ed5b7723ae8b31e1fc9fb1e7b89ec",
    "execution": {
     "iopub.execute_input": "2025-06-13T20:34:24.243599Z",
     "iopub.status.busy": "2025-06-13T20:34:24.243391Z",
     "iopub.status.idle": "2025-06-13T20:34:24.248594Z",
     "shell.execute_reply": "2025-06-13T20:34:24.247668Z",
     "shell.execute_reply.started": "2025-06-13T20:34:24.243561Z"
    },
    "trusted": true
   },
   "outputs": [
    {
     "data": {
      "text/plain": [
       "6.092171559442016"
      ]
     },
     "execution_count": 4,
     "metadata": {},
     "output_type": "execute_result"
    }
   ],
   "source": [
    "C= df2['vote_average'].mean()\n",
    "C"
   ]
  },
  {
   "cell_type": "markdown",
   "metadata": {
    "_uuid": "02fa8642f75bcef6d4a79e029af6dfeebf19e3a5"
   },
   "source": [
    "So, the mean rating for all the movies is approx 6 on a scale of 10.The next step is to determine an appropriate value for m, the minimum votes required to be listed in the chart. We will use 90th percentile as our cutoff. In other words, for a movie to feature in the charts, it must have more votes than at least 90% of the movies in the list."
   ]
  },
  {
   "cell_type": "code",
   "execution_count": 5,
   "metadata": {
    "_uuid": "f2f1eaff1e4349b5d2d11dd5ce79c19a85561148",
    "execution": {
     "iopub.execute_input": "2025-06-13T20:34:24.250506Z",
     "iopub.status.busy": "2025-06-13T20:34:24.250143Z",
     "iopub.status.idle": "2025-06-13T20:34:24.262619Z",
     "shell.execute_reply": "2025-06-13T20:34:24.261874Z",
     "shell.execute_reply.started": "2025-06-13T20:34:24.250445Z"
    },
    "trusted": true
   },
   "outputs": [
    {
     "data": {
      "text/plain": [
       "1838.4000000000015"
      ]
     },
     "execution_count": 5,
     "metadata": {},
     "output_type": "execute_result"
    }
   ],
   "source": [
    "m= df2['vote_count'].quantile(0.9)\n",
    "m"
   ]
  },
  {
   "cell_type": "markdown",
   "metadata": {
    "_uuid": "b77dea5a38ca2c399e3abeac1487e784fe146078"
   },
   "source": [
    "Now, we can filter out the movies that qualify for the chart "
   ]
  },
  {
   "cell_type": "code",
   "execution_count": 6,
   "metadata": {
    "_uuid": "a22008df6d81d3b716d39a56efd3d547345bfbce",
    "execution": {
     "iopub.execute_input": "2025-06-13T20:34:24.264103Z",
     "iopub.status.busy": "2025-06-13T20:34:24.263771Z",
     "iopub.status.idle": "2025-06-13T20:34:24.282076Z",
     "shell.execute_reply": "2025-06-13T20:34:24.281155Z",
     "shell.execute_reply.started": "2025-06-13T20:34:24.264035Z"
    },
    "trusted": true
   },
   "outputs": [
    {
     "data": {
      "text/plain": [
       "(481, 23)"
      ]
     },
     "execution_count": 6,
     "metadata": {},
     "output_type": "execute_result"
    }
   ],
   "source": [
    "q_movies = df2.copy().loc[df2['vote_count'] >= m]\n",
    "q_movies.shape"
   ]
  },
  {
   "cell_type": "markdown",
   "metadata": {
    "_uuid": "cf1fe5a3692caee41a6e7a74c3fde6aeb8a62947"
   },
   "source": [
    "We see that there are 481 movies which qualify to be in this list. Now, we need to calculate our metric for each qualified movie. To do this, we will define a function, **weighted_rating()** and define a new feature **score**, of which we'll calculate the value by applying this function to our DataFrame of qualified movies:"
   ]
  },
  {
   "cell_type": "code",
   "execution_count": 7,
   "metadata": {
    "_uuid": "bb680ed0fb1c3020785d34152c57c6e2279d4424",
    "execution": {
     "iopub.execute_input": "2025-06-13T20:34:24.283846Z",
     "iopub.status.busy": "2025-06-13T20:34:24.283539Z",
     "iopub.status.idle": "2025-06-13T20:34:24.289145Z",
     "shell.execute_reply": "2025-06-13T20:34:24.288447Z",
     "shell.execute_reply.started": "2025-06-13T20:34:24.283787Z"
    },
    "trusted": true
   },
   "outputs": [],
   "source": [
    "def weighted_rating(x, m=m, C=C):\n",
    "    v = x['vote_count']\n",
    "    R = x['vote_average']\n",
    "    # Calculation based on the IMDB formula\n",
    "    return (v/(v+m) * R) + (m/(m+v) * C)"
   ]
  },
  {
   "cell_type": "code",
   "execution_count": 8,
   "metadata": {
    "_uuid": "d2d189929715237ab19a18fb8747239b86092968",
    "execution": {
     "iopub.execute_input": "2025-06-13T20:34:24.291087Z",
     "iopub.status.busy": "2025-06-13T20:34:24.290773Z",
     "iopub.status.idle": "2025-06-13T20:34:24.367276Z",
     "shell.execute_reply": "2025-06-13T20:34:24.366588Z",
     "shell.execute_reply.started": "2025-06-13T20:34:24.291017Z"
    },
    "trusted": true
   },
   "outputs": [],
   "source": [
    "# Define a new feature 'score' and calculate its value with `weighted_rating()`\n",
    "q_movies['score'] = q_movies.apply(weighted_rating, axis=1)"
   ]
  },
  {
   "cell_type": "markdown",
   "metadata": {
    "_uuid": "4cdd60c146173606146ec4fc3a1c9d8c184cb81c"
   },
   "source": [
    "Finally, let's sort the DataFrame based on the score feature and output the title, vote count, vote average and weighted rating or score of the top 10 movies."
   ]
  },
  {
   "cell_type": "code",
   "execution_count": 9,
   "metadata": {
    "_uuid": "a9a9fc3810ea67c31908bbdf8bb930daa918102b",
    "execution": {
     "iopub.execute_input": "2025-06-13T20:34:24.369058Z",
     "iopub.status.busy": "2025-06-13T20:34:24.368735Z",
     "iopub.status.idle": "2025-06-13T20:34:24.393604Z",
     "shell.execute_reply": "2025-06-13T20:34:24.392411Z",
     "shell.execute_reply.started": "2025-06-13T20:34:24.368996Z"
    },
    "trusted": true
   },
   "outputs": [
    {
     "data": {
      "text/html": [
       "<div>\n",
       "<style scoped>\n",
       "    .dataframe tbody tr th:only-of-type {\n",
       "        vertical-align: middle;\n",
       "    }\n",
       "\n",
       "    .dataframe tbody tr th {\n",
       "        vertical-align: top;\n",
       "    }\n",
       "\n",
       "    .dataframe thead th {\n",
       "        text-align: right;\n",
       "    }\n",
       "</style>\n",
       "<table border=\"1\" class=\"dataframe\">\n",
       "  <thead>\n",
       "    <tr style=\"text-align: right;\">\n",
       "      <th></th>\n",
       "      <th>title</th>\n",
       "      <th>vote_count</th>\n",
       "      <th>vote_average</th>\n",
       "      <th>score</th>\n",
       "    </tr>\n",
       "  </thead>\n",
       "  <tbody>\n",
       "    <tr>\n",
       "      <th>1881</th>\n",
       "      <td>The Shawshank Redemption</td>\n",
       "      <td>8205</td>\n",
       "      <td>8.5</td>\n",
       "      <td>8.059258</td>\n",
       "    </tr>\n",
       "    <tr>\n",
       "      <th>662</th>\n",
       "      <td>Fight Club</td>\n",
       "      <td>9413</td>\n",
       "      <td>8.3</td>\n",
       "      <td>7.939256</td>\n",
       "    </tr>\n",
       "    <tr>\n",
       "      <th>65</th>\n",
       "      <td>The Dark Knight</td>\n",
       "      <td>12002</td>\n",
       "      <td>8.2</td>\n",
       "      <td>7.920020</td>\n",
       "    </tr>\n",
       "    <tr>\n",
       "      <th>3232</th>\n",
       "      <td>Pulp Fiction</td>\n",
       "      <td>8428</td>\n",
       "      <td>8.3</td>\n",
       "      <td>7.904645</td>\n",
       "    </tr>\n",
       "    <tr>\n",
       "      <th>96</th>\n",
       "      <td>Inception</td>\n",
       "      <td>13752</td>\n",
       "      <td>8.1</td>\n",
       "      <td>7.863239</td>\n",
       "    </tr>\n",
       "    <tr>\n",
       "      <th>3337</th>\n",
       "      <td>The Godfather</td>\n",
       "      <td>5893</td>\n",
       "      <td>8.4</td>\n",
       "      <td>7.851236</td>\n",
       "    </tr>\n",
       "    <tr>\n",
       "      <th>95</th>\n",
       "      <td>Interstellar</td>\n",
       "      <td>10867</td>\n",
       "      <td>8.1</td>\n",
       "      <td>7.809479</td>\n",
       "    </tr>\n",
       "    <tr>\n",
       "      <th>809</th>\n",
       "      <td>Forrest Gump</td>\n",
       "      <td>7927</td>\n",
       "      <td>8.2</td>\n",
       "      <td>7.803188</td>\n",
       "    </tr>\n",
       "    <tr>\n",
       "      <th>329</th>\n",
       "      <td>The Lord of the Rings: The Return of the King</td>\n",
       "      <td>8064</td>\n",
       "      <td>8.1</td>\n",
       "      <td>7.727243</td>\n",
       "    </tr>\n",
       "    <tr>\n",
       "      <th>1990</th>\n",
       "      <td>The Empire Strikes Back</td>\n",
       "      <td>5879</td>\n",
       "      <td>8.2</td>\n",
       "      <td>7.697884</td>\n",
       "    </tr>\n",
       "  </tbody>\n",
       "</table>\n",
       "</div>"
      ],
      "text/plain": [
       "                                              title  vote_count  vote_average  \\\n",
       "1881                       The Shawshank Redemption        8205           8.5   \n",
       "662                                      Fight Club        9413           8.3   \n",
       "65                                  The Dark Knight       12002           8.2   \n",
       "3232                                   Pulp Fiction        8428           8.3   \n",
       "96                                        Inception       13752           8.1   \n",
       "3337                                  The Godfather        5893           8.4   \n",
       "95                                     Interstellar       10867           8.1   \n",
       "809                                    Forrest Gump        7927           8.2   \n",
       "329   The Lord of the Rings: The Return of the King        8064           8.1   \n",
       "1990                        The Empire Strikes Back        5879           8.2   \n",
       "\n",
       "         score  \n",
       "1881  8.059258  \n",
       "662   7.939256  \n",
       "65    7.920020  \n",
       "3232  7.904645  \n",
       "96    7.863239  \n",
       "3337  7.851236  \n",
       "95    7.809479  \n",
       "809   7.803188  \n",
       "329   7.727243  \n",
       "1990  7.697884  "
      ]
     },
     "execution_count": 9,
     "metadata": {},
     "output_type": "execute_result"
    }
   ],
   "source": [
    "#Sort movies based on score calculated above\n",
    "q_movies = q_movies.sort_values('score', ascending=False)\n",
    "\n",
    "#Print the top 15 movies\n",
    "q_movies[['title', 'vote_count', 'vote_average', 'score']].head(10)"
   ]
  },
  {
   "cell_type": "markdown",
   "metadata": {
    "_uuid": "7625c6d5bd647f4f75eafd7880b7ca2d07938cf7"
   },
   "source": [
    "Hurray! We have made our first(though very basic) recommender.\n",
    "Under the **Trending Now** tab of these systems we find movies that are very popular and they can just be obtained by sorting the dataset by the popularity column."
   ]
  },
  {
   "cell_type": "code",
   "execution_count": 10,
   "metadata": {
    "_uuid": "207f7058f92698b5fd776f7771a3ac0cc2928bf1",
    "execution": {
     "iopub.execute_input": "2025-06-13T20:34:24.395067Z",
     "iopub.status.busy": "2025-06-13T20:34:24.394826Z",
     "iopub.status.idle": "2025-06-13T20:34:24.770003Z",
     "shell.execute_reply": "2025-06-13T20:34:24.768717Z",
     "shell.execute_reply.started": "2025-06-13T20:34:24.395008Z"
    },
    "trusted": true
   },
   "outputs": [
    {
     "data": {
      "text/plain": [
       "Text(0.5, 1.0, 'Popular Movies')"
      ]
     },
     "execution_count": 10,
     "metadata": {},
     "output_type": "execute_result"
    },
    {
     "data": {
      "image/png": "[encoded data removed]",
      "text/plain": [
       "<Figure size 1200x400 with 1 Axes>"
      ]
     },
     "metadata": {},
     "output_type": "display_data"
    }
   ],
   "source": [
    "pop= df2.sort_values('popularity', ascending=False)\n",
    "import matplotlib.pyplot as plt\n",
    "plt.figure(figsize=(12,4))\n",
    "\n",
    "plt.barh(pop['title'].head(6),pop['popularity'].head(6), align='center',\n",
    "        color='skyblue')\n",
    "plt.gca().invert_yaxis()\n",
    "plt.xlabel(\"Popularity\")\n",
    "plt.title(\"Popular Movies\")\n"
   ]
  },
  {
   "cell_type": "markdown",
   "metadata": {
    "_uuid": "d1cf28fc0c22afa80edc6d464177035357721d35"
   },
   "source": [
    "Now something to keep in mind is that these demographic recommender provide a general chart of recommended movies to all the users. They are not sensitive to the interests and tastes of a particular user.\n",
    "This is when we move on to a more refined system-  Content Basesd Filtering. "
   ]
  },
  {
   "cell_type": "markdown",
   "metadata": {
    "_uuid": "fe716df6e5e5a354ac53d556087147c0a64df2cc"
   },
   "source": [
    "# **Content Based Filtering**\n",
    "In this recommender system the content of the movie (overview, cast, crew, keyword, tagline etc) is used to find its similarity with other movies. Then the movies that are most likely to be similar are recommended.\n",
    "\n",
    "![](https://image.ibb.co/f6mDXU/conten.png)"
   ]
  },
  {
   "cell_type": "markdown",
   "metadata": {
    "_uuid": "b0a813c803b0ba1f0204188ab2a63dc7f59ce2eb"
   },
   "source": [
    "## **Plot description based Recommender**\n",
    "\n",
    "We will compute pairwise similarity scores for all movies based on their plot descriptions and recommend movies based on that similarity score. The plot description is given in the **overview** feature of our dataset. \n",
    "Let's take a look at the data. .. "
   ]
  },
  {
   "cell_type": "code",
   "execution_count": 11,
   "metadata": {
    "_uuid": "5e676c38ace04a24205b76b16dac0fa3e058027f",
    "execution": {
     "iopub.execute_input": "2025-06-13T20:34:24.772085Z",
     "iopub.status.busy": "2025-06-13T20:34:24.771693Z",
     "iopub.status.idle": "2025-06-13T20:34:24.783179Z",
     "shell.execute_reply": "2025-06-13T20:34:24.782384Z",
     "shell.execute_reply.started": "2025-06-13T20:34:24.772022Z"
    },
    "trusted": true
   },
   "outputs": [
    {
     "data": {
      "text/plain": [
       "0    In the 22nd century, a paraplegic Marine is di...\n",
       "1    Captain Barbossa, long believed to be dead, ha...\n",
       "2    A cryptic message from Bond’s past sends him o...\n",
       "3    Following the death of District Attorney Harve...\n",
       "4    John Carter is a war-weary, former military ca...\n",
       "Name: overview, dtype: object"
      ]
     },
     "execution_count": 11,
     "metadata": {},
     "output_type": "execute_result"
    }
   ],
   "source": [
    "df2['overview'].head(5)"
   ]
  },
  {
   "cell_type": "markdown",
   "metadata": {
    "_uuid": "277a9bb5b00a6bd2469c45777f9c659066f402b3"
   },
   "source": [
    "For any of you who has done even a  bit of text processing before knows we need to convert the word vector of each overview.\n",
    "Now we'll compute Term Frequency-Inverse Document Frequency (TF-IDF) vectors for each overview.\n",
    "\n",
    "Now if you are wondering what is term frequency , it is the relative frequency of a word in a document and is given as\n",
    "   **(term instances/total instances)**.\n",
    "Inverse Document Frequency is the relative count of documents containing the term is given as \n",
    "**log(number of documents/documents with term)**\n",
    "The overall importance of each word to the documents in which they appear is equal to **TF * IDF**\n",
    "\n",
    "This will give you a matrix where each column represents a word in the overview vocabulary (all the words that appear in at least one document) and each row represents a movie, as before.This is done to reduce the importance of words that occur frequently in plot overviews and therefore, their significance in computing the final similarity score.\n",
    "\n",
    "Fortunately, scikit-learn gives you a built-in TfIdfVectorizer class that produces the TF-IDF matrix in a couple of lines. That's great, isn't it? "
   ]
  },
  {
   "cell_type": "code",
   "execution_count": 12,
   "metadata": {
    "_uuid": "a92da8cde39c61deef5a1b8efa31ed84cda7f5fe",
    "execution": {
     "iopub.execute_input": "2025-06-13T20:34:24.784816Z",
     "iopub.status.busy": "2025-06-13T20:34:24.784536Z",
     "iopub.status.idle": "2025-06-13T20:34:26.057394Z",
     "shell.execute_reply": "2025-06-13T20:34:26.056564Z",
     "shell.execute_reply.started": "2025-06-13T20:34:24.784759Z"
    },
    "trusted": true
   },
   "outputs": [
    {
     "data": {
      "text/plain": [
       "(4803, 20978)"
      ]
     },
     "execution_count": 12,
     "metadata": {},
     "output_type": "execute_result"
    }
   ],
   "source": [
    "#Import TfIdfVectorizer from scikit-learn\n",
    "from sklearn.feature_extraction.text import TfidfVectorizer\n",
    "\n",
    "#Define a TF-IDF Vectorizer Object. Remove all english stop words such as 'the', 'a'\n",
    "tfidf = TfidfVectorizer(stop_words='english')\n",
    "\n",
    "#Replace NaN with an empty string\n",
    "df2['overview'] = df2['overview'].fillna('')\n",
    "\n",
    "#Construct the required TF-IDF matrix by fitting and transforming the data\n",
    "tfidf_matrix = tfidf.fit_transform(df2['overview'])\n",
    "\n",
    "#Output the shape of tfidf_matrix\n",
    "tfidf_matrix.shape"
   ]
  },
  {
   "cell_type": "markdown",
   "metadata": {
    "_uuid": "6bde57434bf9a0e8f8b229d36901d75b77ff962f"
   },
   "source": [
    "We will be using the cosine similarity to calculate a numeric quantity that denotes the similarity between two movies. We use the cosine similarity score since it is independent of magnitude and is relatively easy and fast to calculate. Mathematically, it is defined as follows:\n",
    "![](data:image/png;base64,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)"
   ]
  },
  {
   "cell_type": "markdown",
   "metadata": {
    "_uuid": "c1c138ae64648cb5a94127a06441d88dddc2bd9a"
   },
   "source": [
    "Since we have used the TF-IDF vectorizer, calculating the dot product will directly give us the cosine similarity score. Therefore, we will use sklearn's **linear_kernel()** instead of cosine_similarities() since it is faster."
   ]
  },
  {
   "cell_type": "code",
   "execution_count": 13,
   "metadata": {
    "_uuid": "5eb17d12220eecab4faf01bbfd13e79d8e446537",
    "execution": {
     "iopub.execute_input": "2025-06-13T20:34:26.059195Z",
     "iopub.status.busy": "2025-06-13T20:34:26.058876Z",
     "iopub.status.idle": "2025-06-13T20:34:26.572628Z",
     "shell.execute_reply": "2025-06-13T20:34:26.571641Z",
     "shell.execute_reply.started": "2025-06-13T20:34:26.059136Z"
    },
    "trusted": true
   },
   "outputs": [],
   "source": [
    "# Import linear_kernel\n",
    "from sklearn.metrics.pairwise import linear_kernel\n",
    "\n",
    "# Compute the cosine similarity matrix\n",
    "cosine_sim = linear_kernel(tfidf_matrix, tfidf_matrix)"
   ]
  },
  {
   "cell_type": "markdown",
   "metadata": {
    "_uuid": "f5ca112fbbe25b11f0f3356a31d1604727242700"
   },
   "source": [
    "We are going to define a function that takes in a movie title as an input and outputs a list of the 10 most similar movies. Firstly, for this, we need a reverse mapping of movie titles and DataFrame indices. In other words, we need a mechanism to identify the index of a movie in our metadata DataFrame, given its title."
   ]
  },
  {
   "cell_type": "code",
   "execution_count": 14,
   "metadata": {
    "_uuid": "55df2df36be98e6dec5f617a5aa51b77c500faa4",
    "execution": {
     "iopub.execute_input": "2025-06-13T20:34:26.574661Z",
     "iopub.status.busy": "2025-06-13T20:34:26.574289Z",
     "iopub.status.idle": "2025-06-13T20:34:26.581339Z",
     "shell.execute_reply": "2025-06-13T20:34:26.580417Z",
     "shell.execute_reply.started": "2025-06-13T20:34:26.574598Z"
    },
    "trusted": true
   },
   "outputs": [],
   "source": [
    "#Construct a reverse map of indices and movie titles\n",
    "indices = pd.Series(df2.index, index=df2['title']).drop_duplicates()\n"
   ]
  },
  {
   "cell_type": "markdown",
   "metadata": {
    "_uuid": "da5896c6ccfd44c3347af3097275d0aa707c1001"
   },
   "source": [
    "We are now in a good position to define our recommendation function. These are the following steps we'll follow :-\n",
    "* Get the index of the movie given its title.\n",
    "* Get the list of cosine similarity scores for that particular movie with all movies. Convert it into a list of tuples where the first element is its position and the second is the similarity score.\n",
    "* Sort the aforementioned list of tuples based on the similarity scores; that is, the second element.\n",
    "* Get the top 10 elements of this list. Ignore the first element as it refers to self (the movie most similar to a particular movie is the movie itself).\n",
    "* Return the titles corresponding to the indices of the top elements."
   ]
  },
  {
   "cell_type": "code",
   "execution_count": 15,
   "metadata": {
    "_uuid": "9c383fcbb916dce464b01adf980d26ad96aebe0e",
    "execution": {
     "iopub.execute_input": "2025-06-13T20:34:26.582841Z",
     "iopub.status.busy": "2025-06-13T20:34:26.582601Z",
     "iopub.status.idle": "2025-06-13T20:34:26.597138Z",
     "shell.execute_reply": "2025-06-13T20:34:26.596417Z",
     "shell.execute_reply.started": "2025-06-13T20:34:26.582781Z"
    },
    "trusted": true
   },
   "outputs": [],
   "source": [
    "# Function that takes in movie title as input and outputs most similar movies\n",
    "def get_recommendations(title, cosine_sim=cosine_sim):\n",
    "    # Get the index of the movie that matches the title\n",
    "    idx = indices[title]\n",
    "\n",
    "    # Get the pairwsie similarity scores of all movies with that movie\n",
    "    sim_scores = list(enumerate(cosine_sim[idx]))\n",
    "\n",
    "    # Sort the movies based on the similarity scores\n",
    "    sim_scores = sorted(sim_scores, key=lambda x: x[1], reverse=True)\n",
    "\n",
    "    # Get the scores of the 10 most similar movies\n",
    "    sim_scores = sim_scores[1:11]\n",
    "\n",
    "    # Get the movie indices\n",
    "    movie_indices = [i[0] for i in sim_scores]\n",
    "\n",
    "    # Return the top 10 most similar movies\n",
    "    return df2['title'].iloc[movie_indices]"
   ]
  },
  {
   "cell_type": "code",
   "execution_count": 16,
   "metadata": {
    "_uuid": "14d722124f82e69cb444adcc589e396c75cbb4ff",
    "execution": {
     "iopub.execute_input": "2025-06-13T20:34:26.598894Z",
     "iopub.status.busy": "2025-06-13T20:34:26.598614Z",
     "iopub.status.idle": "2025-06-13T20:34:26.613691Z",
     "shell.execute_reply": "2025-06-13T20:34:26.612866Z",
     "shell.execute_reply.started": "2025-06-13T20:34:26.598838Z"
    },
    "trusted": true
   },
   "outputs": [
    {
     "data": {
      "text/plain": [
       "65                              The Dark Knight\n",
       "299                              Batman Forever\n",
       "428                              Batman Returns\n",
       "1359                                     Batman\n",
       "3854    Batman: The Dark Knight Returns, Part 2\n",
       "119                               Batman Begins\n",
       "2507                                  Slow Burn\n",
       "9            Batman v Superman: Dawn of Justice\n",
       "1181                                        JFK\n",
       "210                              Batman & Robin\n",
       "Name: title, dtype: object"
      ]
     },
     "execution_count": 16,
     "metadata": {},
     "output_type": "execute_result"
    }
   ],
   "source": [
    "get_recommendations('The Dark Knight Rises')"
   ]
  },
  {
   "cell_type": "code",
   "execution_count": 17,
   "metadata": {
    "_uuid": "902b9f1ab91921889c85e9008818dcc0b4710ccd",
    "execution": {
     "iopub.execute_input": "2025-06-13T20:34:26.614936Z",
     "iopub.status.busy": "2025-06-13T20:34:26.614744Z",
     "iopub.status.idle": "2025-06-13T20:34:26.631462Z",
     "shell.execute_reply": "2025-06-13T20:34:26.630479Z",
     "shell.execute_reply.started": "2025-06-13T20:34:26.614902Z"
    },
    "trusted": true
   },
   "outputs": [
    {
     "data": {
      "text/plain": [
       "7               Avengers: Age of Ultron\n",
       "3144                            Plastic\n",
       "1715                            Timecop\n",
       "4124                 This Thing of Ours\n",
       "3311              Thank You for Smoking\n",
       "3033                      The Corruptor\n",
       "588     Wall Street: Money Never Sleeps\n",
       "2136         Team America: World Police\n",
       "1468                       The Fountain\n",
       "1286                        Snowpiercer\n",
       "Name: title, dtype: object"
      ]
     },
     "execution_count": 17,
     "metadata": {},
     "output_type": "execute_result"
    }
   ],
   "source": [
    "get_recommendations('The Avengers')"
   ]
  },
  {
   "cell_type": "markdown",
   "metadata": {
    "_uuid": "fcfe9db9c2fdd9334538256d233c6acf33c1c049"
   },
   "source": [
    "## **Credits, Genres and Keywords Based Recommender**\n",
    "It goes without saying that the quality of our recommender would be increased with the usage of better metadata. That is exactly what we are going to do in this section. We are going to build a recommender based on the following metadata: the 3 top actors, the director, related genres and the movie plot keywords.\n",
    "\n",
    "From the cast, crew and keywords features, we need to extract the three most important actors, the director and the keywords associated with that movie. Right now, our data is present in the form of \"stringified\" lists , we need to convert it into a safe and usable structure"
   ]
  },
  {
   "cell_type": "code",
   "execution_count": 18,
   "metadata": {
    "_uuid": "59a8d0991e3cae9a44a4b351e154fd1000724448",
    "execution": {
     "iopub.execute_input": "2025-06-13T20:34:26.632836Z",
     "iopub.status.busy": "2025-06-13T20:34:26.632567Z",
     "iopub.status.idle": "2025-06-13T20:34:35.038844Z",
     "shell.execute_reply": "2025-06-13T20:34:35.037879Z",
     "shell.execute_reply.started": "2025-06-13T20:34:26.632774Z"
    },
    "trusted": true
   },
   "outputs": [],
   "source": [
    "# Parse the stringified features into their corresponding python objects\n",
    "from ast import literal_eval\n",
    "\n",
    "features = ['cast', 'crew', 'keywords', 'genres']\n",
    "for feature in features:\n",
    "    df2[feature] = df2[feature].apply(literal_eval)"
   ]
  },
  {
   "cell_type": "markdown",
   "metadata": {
    "_uuid": "47d6062d1622a163f2bcf80b79eb7b1454003739"
   },
   "source": [
    "Next, we'll write functions that will help us to extract the required information from each feature."
   ]
  },
  {
   "cell_type": "code",
   "execution_count": 19,
   "metadata": {
    "_uuid": "783b0e89f1c04a12ff51eb29cc68e93c818896cd",
    "execution": {
     "iopub.execute_input": "2025-06-13T20:34:35.040456Z",
     "iopub.status.busy": "2025-06-13T20:34:35.040152Z",
     "iopub.status.idle": "2025-06-13T20:34:35.044138Z",
     "shell.execute_reply": "2025-06-13T20:34:35.043390Z",
     "shell.execute_reply.started": "2025-06-13T20:34:35.040397Z"
    },
    "trusted": true
   },
   "outputs": [],
   "source": [
    "# Get the director's name from the crew feature. If director is not listed, return NaN\n",
    "def get_director(x):\n",
    "    for i in x:\n",
    "        if i['job'] == 'Director':\n",
    "            return i['name']\n",
    "    return np.nan"
   ]
  },
  {
   "cell_type": "code",
   "execution_count": 20,
   "metadata": {
    "_uuid": "86c4e9f4e6ef1e5ff287f58f3a1119fbddbdae09",
    "execution": {
     "iopub.execute_input": "2025-06-13T20:34:35.045783Z",
     "iopub.status.busy": "2025-06-13T20:34:35.045568Z",
     "iopub.status.idle": "2025-06-13T20:34:35.056790Z",
     "shell.execute_reply": "2025-06-13T20:34:35.056004Z",
     "shell.execute_reply.started": "2025-06-13T20:34:35.045742Z"
    },
    "trusted": true
   },
   "outputs": [],
   "source": [
    "# Returns the list top 3 elements or entire list; whichever is more.\n",
    "def get_list(x):\n",
    "    if isinstance(x, list):\n",
    "        names = [i['name'] for i in x]\n",
    "        #Check if more than 3 elements exist. If yes, return only first three. If no, return entire list.\n",
    "        if len(names) > 3:\n",
    "            names = names[:3]\n",
    "        return names\n",
    "\n",
    "    #Return empty list in case of missing/malformed data\n",
    "    return []"
   ]
  },
  {
   "cell_type": "code",
   "execution_count": 21,
   "metadata": {
    "_uuid": "dd060c3c1d724de71555218f30cccafd4a8ad6af",
    "execution": {
     "iopub.execute_input": "2025-06-13T20:34:35.058262Z",
     "iopub.status.busy": "2025-06-13T20:34:35.058024Z",
     "iopub.status.idle": "2025-06-13T20:34:35.231715Z",
     "shell.execute_reply": "2025-06-13T20:34:35.230824Z",
     "shell.execute_reply.started": "2025-06-13T20:34:35.058214Z"
    },
    "trusted": true
   },
   "outputs": [],
   "source": [
    "# Define new director, cast, genres and keywords features that are in a suitable form.\n",
    "df2['director'] = df2['crew'].apply(get_director)\n",
    "\n",
    "features = ['cast', 'keywords', 'genres']\n",
    "for feature in features:\n",
    "    df2[feature] = df2[feature].apply(get_list)"
   ]
  },
  {
   "cell_type": "code",
   "execution_count": 22,
   "metadata": {
    "_uuid": "87a96f835470aa3df590b74322c2717ff529d6ae",
    "execution": {
     "iopub.execute_input": "2025-06-13T20:34:35.233465Z",
     "iopub.status.busy": "2025-06-13T20:34:35.233192Z",
     "iopub.status.idle": "2025-06-13T20:34:35.259728Z",
     "shell.execute_reply": "2025-06-13T20:34:35.258856Z",
     "shell.execute_reply.started": "2025-06-13T20:34:35.233414Z"
    },
    "trusted": true
   },
   "outputs": [
    {
     "data": {
      "text/html": [
       "<div>\n",
       "<style scoped>\n",
       "    .dataframe tbody tr th:only-of-type {\n",
       "        vertical-align: middle;\n",
       "    }\n",
       "\n",
       "    .dataframe tbody tr th {\n",
       "        vertical-align: top;\n",
       "    }\n",
       "\n",
       "    .dataframe thead th {\n",
       "        text-align: right;\n",
       "    }\n",
       "</style>\n",
       "<table border=\"1\" class=\"dataframe\">\n",
       "  <thead>\n",
       "    <tr style=\"text-align: right;\">\n",
       "      <th></th>\n",
       "      <th>title</th>\n",
       "      <th>cast</th>\n",
       "      <th>director</th>\n",
       "      <th>keywords</th>\n",
       "      <th>genres</th>\n",
       "    </tr>\n",
       "  </thead>\n",
       "  <tbody>\n",
       "    <tr>\n",
       "      <th>0</th>\n",
       "      <td>Avatar</td>\n",
       "      <td>[Sam Worthington, Zoe Saldana, Sigourney Weaver]</td>\n",
       "      <td>James Cameron</td>\n",
       "      <td>[culture clash, future, space war]</td>\n",
       "      <td>[Action, Adventure, Fantasy]</td>\n",
       "    </tr>\n",
       "    <tr>\n",
       "      <th>1</th>\n",
       "      <td>Pirates of the Caribbean: At World's End</td>\n",
       "      <td>[Johnny Depp, Orlando Bloom, Keira Knightley]</td>\n",
       "      <td>Gore Verbinski</td>\n",
       "      <td>[ocean, drug abuse, exotic island]</td>\n",
       "      <td>[Adventure, Fantasy, Action]</td>\n",
       "    </tr>\n",
       "    <tr>\n",
       "      <th>2</th>\n",
       "      <td>Spectre</td>\n",
       "      <td>[Daniel Craig, Christoph Waltz, Léa Seydoux]</td>\n",
       "      <td>Sam Mendes</td>\n",
       "      <td>[spy, based on novel, secret agent]</td>\n",
       "      <td>[Action, Adventure, Crime]</td>\n",
       "    </tr>\n",
       "  </tbody>\n",
       "</table>\n",
       "</div>"
      ],
      "text/plain": [
       "                                      title  \\\n",
       "0                                    Avatar   \n",
       "1  Pirates of the Caribbean: At World's End   \n",
       "2                                   Spectre   \n",
       "\n",
       "                                               cast        director  \\\n",
       "0  [Sam Worthington, Zoe Saldana, Sigourney Weaver]   James Cameron   \n",
       "1     [Johnny Depp, Orlando Bloom, Keira Knightley]  Gore Verbinski   \n",
       "2      [Daniel Craig, Christoph Waltz, Léa Seydoux]      Sam Mendes   \n",
       "\n",
       "                              keywords                        genres  \n",
       "0   [culture clash, future, space war]  [Action, Adventure, Fantasy]  \n",
       "1   [ocean, drug abuse, exotic island]  [Adventure, Fantasy, Action]  \n",
       "2  [spy, based on novel, secret agent]    [Action, Adventure, Crime]  "
      ]
     },
     "execution_count": 22,
     "metadata": {},
     "output_type": "execute_result"
    }
   ],
   "source": [
    "# Print the new features of the first 3 films\n",
    "df2[['title', 'cast', 'director', 'keywords', 'genres']].head(3)"
   ]
  },
  {
   "cell_type": "markdown",
   "metadata": {
    "_uuid": "0bcb2c2e99ffd9ce73205c9c6ef6687d16caa31f"
   },
   "source": [
    "The next step would be to convert the names and keyword instances into lowercase and strip all the spaces between them. This is done so that our vectorizer doesn't count the Johnny of \"Johnny Depp\" and \"Johnny Galecki\" as the same."
   ]
  },
  {
   "cell_type": "code",
   "execution_count": 23,
   "metadata": {
    "_uuid": "86af764c406a8b6184b37b57cfe499d20ce45f9c",
    "execution": {
     "iopub.execute_input": "2025-06-13T20:34:35.261536Z",
     "iopub.status.busy": "2025-06-13T20:34:35.261151Z",
     "iopub.status.idle": "2025-06-13T20:34:35.272628Z",
     "shell.execute_reply": "2025-06-13T20:34:35.271747Z",
     "shell.execute_reply.started": "2025-06-13T20:34:35.261470Z"
    },
    "trusted": true
   },
   "outputs": [],
   "source": [
    "# Function to convert all strings to lower case and strip names of spaces\n",
    "def clean_data(x):\n",
    "    if isinstance(x, list):\n",
    "        return [str.lower(i.replace(\" \", \"\")) for i in x]\n",
    "    else:\n",
    "        #Check if director exists. If not, return empty string\n",
    "        if isinstance(x, str):\n",
    "            return str.lower(x.replace(\" \", \"\"))\n",
    "        else:\n",
    "            return ''"
   ]
  },
  {
   "cell_type": "code",
   "execution_count": 24,
   "metadata": {
    "_uuid": "5728cc017ff6ed1dcd79da05b1dd57a60557e853",
    "execution": {
     "iopub.execute_input": "2025-06-13T20:34:35.274077Z",
     "iopub.status.busy": "2025-06-13T20:34:35.273857Z",
     "iopub.status.idle": "2025-06-13T20:34:35.321750Z",
     "shell.execute_reply": "2025-06-13T20:34:35.321072Z",
     "shell.execute_reply.started": "2025-06-13T20:34:35.274036Z"
    },
    "trusted": true
   },
   "outputs": [],
   "source": [
    "# Apply clean_data function to your features.\n",
    "features = ['cast', 'keywords', 'director', 'genres']\n",
    "\n",
    "for feature in features:\n",
    "    df2[feature] = df2[feature].apply(clean_data)"
   ]
  },
  {
   "cell_type": "markdown",
   "metadata": {
    "_uuid": "b6b3e1c480a7c280fbe81e63c5c4cf3ce308dc28"
   },
   "source": [
    "We are now in a position to create our \"metadata soup\", which is a string that contains all the metadata that we want to feed to our vectorizer (namely actors, director and keywords)."
   ]
  },
  {
   "cell_type": "code",
   "execution_count": 25,
   "metadata": {
    "_uuid": "20aef87703c408926f7617573ed043605207767f",
    "execution": {
     "iopub.execute_input": "2025-06-13T20:34:35.323290Z",
     "iopub.status.busy": "2025-06-13T20:34:35.322975Z",
     "iopub.status.idle": "2025-06-13T20:34:35.567795Z",
     "shell.execute_reply": "2025-06-13T20:34:35.567162Z",
     "shell.execute_reply.started": "2025-06-13T20:34:35.323238Z"
    },
    "trusted": true
   },
   "outputs": [],
   "source": [
    "def create_soup(x):\n",
    "    return ' '.join(x['keywords']) + ' ' + ' '.join(x['cast']) + ' ' + x['director'] + ' ' + ' '.join(x['genres'])\n",
    "df2['soup'] = df2.apply(create_soup, axis=1)"
   ]
  },
  {
   "cell_type": "markdown",
   "metadata": {
    "_uuid": "7b79886883806b8fb58098f9f803dabeaa0cadf6"
   },
   "source": [
    "The next steps are the same as what we did with our plot description based recommender. One important difference is that we use the **CountVectorizer()** instead of TF-IDF. This is because we do not want to down-weight the presence of an actor/director if he or she has acted or directed in relatively more movies. It doesn't make much intuitive sense."
   ]
  },
  {
   "cell_type": "code",
   "execution_count": 26,
   "metadata": {
    "_uuid": "b66a1afc1083917d5ef136ccdcd9b50cca087e2b",
    "execution": {
     "iopub.execute_input": "2025-06-13T20:34:35.569351Z",
     "iopub.status.busy": "2025-06-13T20:34:35.569059Z",
     "iopub.status.idle": "2025-06-13T20:34:35.659255Z",
     "shell.execute_reply": "2025-06-13T20:34:35.658444Z",
     "shell.execute_reply.started": "2025-06-13T20:34:35.569280Z"
    },
    "trusted": true
   },
   "outputs": [],
   "source": [
    "# Import CountVectorizer and create the count matrix\n",
    "from sklearn.feature_extraction.text import CountVectorizer\n",
    "\n",
    "count = CountVectorizer(stop_words='english')\n",
    "count_matrix = count.fit_transform(df2['soup'])"
   ]
  },
  {
   "cell_type": "code",
   "execution_count": 27,
   "metadata": {
    "_uuid": "3fa5539ed1680ed5323f8351ac7e4840f629e958",
    "execution": {
     "iopub.execute_input": "2025-06-13T20:34:35.660718Z",
     "iopub.status.busy": "2025-06-13T20:34:35.660451Z",
     "iopub.status.idle": "2025-06-13T20:34:36.200223Z",
     "shell.execute_reply": "2025-06-13T20:34:36.199215Z",
     "shell.execute_reply.started": "2025-06-13T20:34:35.660663Z"
    },
    "trusted": true
   },
   "outputs": [],
   "source": [
    "# Compute the Cosine Similarity matrix based on the count_matrix\n",
    "from sklearn.metrics.pairwise import cosine_similarity\n",
    "\n",
    "cosine_sim2 = cosine_similarity(count_matrix, count_matrix)"
   ]
  },
  {
   "cell_type": "code",
   "execution_count": 28,
   "metadata": {
    "_uuid": "b2b8565a04f4bda92d3ba9d15c348af1cd8f8b4d",
    "execution": {
     "iopub.execute_input": "2025-06-13T20:34:36.201808Z",
     "iopub.status.busy": "2025-06-13T20:34:36.201603Z",
     "iopub.status.idle": "2025-06-13T20:34:36.212338Z",
     "shell.execute_reply": "2025-06-13T20:34:36.211548Z",
     "shell.execute_reply.started": "2025-06-13T20:34:36.201772Z"
    },
    "trusted": true
   },
   "outputs": [],
   "source": [
    "# Reset index of our main DataFrame and construct reverse mapping as before\n",
    "df2 = df2.reset_index()\n",
    "indices = pd.Series(df2.index, index=df2['title'])"
   ]
  },
  {
   "cell_type": "markdown",
   "metadata": {
    "_uuid": "3c5a3a44893f63aa558030d03e228a365d10d91f"
   },
   "source": [
    "We can now reuse our **get_recommendations()** function by passing in the new **cosine_sim2** matrix as your second argument."
   ]
  },
  {
   "cell_type": "code",
   "execution_count": 29,
   "metadata": {
    "_uuid": "d1e0e02be7a9e71422d3a492834cb4f8434d1464",
    "execution": {
     "iopub.execute_input": "2025-06-13T20:34:36.213932Z",
     "iopub.status.busy": "2025-06-13T20:34:36.213694Z",
     "iopub.status.idle": "2025-06-13T20:34:36.234125Z",
     "shell.execute_reply": "2025-06-13T20:34:36.233197Z",
     "shell.execute_reply.started": "2025-06-13T20:34:36.213875Z"
    },
    "trusted": true
   },
   "outputs": [
    {
     "data": {
      "text/plain": [
       "65               The Dark Knight\n",
       "119                Batman Begins\n",
       "4638    Amidst the Devil's Wings\n",
       "1196                The Prestige\n",
       "3073           Romeo Is Bleeding\n",
       "3326              Black November\n",
       "1503                      Takers\n",
       "1986                      Faster\n",
       "303                     Catwoman\n",
       "747               Gangster Squad\n",
       "Name: title, dtype: object"
      ]
     },
     "execution_count": 29,
     "metadata": {},
     "output_type": "execute_result"
    }
   ],
   "source": [
    "get_recommendations('The Dark Knight Rises', cosine_sim2)"
   ]
  },
  {
   "cell_type": "code",
   "execution_count": 30,
   "metadata": {
    "_uuid": "d6c4df85a80d830b2905f69e0e59ebb3461db3b7",
    "execution": {
     "iopub.execute_input": "2025-06-13T20:34:36.235410Z",
     "iopub.status.busy": "2025-06-13T20:34:36.235117Z",
     "iopub.status.idle": "2025-06-13T20:34:36.251393Z",
     "shell.execute_reply": "2025-06-13T20:34:36.250555Z",
     "shell.execute_reply.started": "2025-06-13T20:34:36.235355Z"
    },
    "trusted": true
   },
   "outputs": [
    {
     "data": {
      "text/plain": [
       "867      The Godfather: Part III\n",
       "2731      The Godfather: Part II\n",
       "4638    Amidst the Devil's Wings\n",
       "2649           The Son of No One\n",
       "1525              Apocalypse Now\n",
       "1018             The Cotton Club\n",
       "1170     The Talented Mr. Ripley\n",
       "1209               The Rainmaker\n",
       "1394               Donnie Brasco\n",
       "1850                    Scarface\n",
       "Name: title, dtype: object"
      ]
     },
     "execution_count": 30,
     "metadata": {},
     "output_type": "execute_result"
    }
   ],
   "source": [
    "get_recommendations('The Godfather', cosine_sim2)"
   ]
  },
  {
   "cell_type": "markdown",
   "metadata": {
    "_uuid": "4d963ff547ee4980c0f23840394046d805fda574"
   },
   "source": [
    "We see that our recommender has been successful in capturing more information due to more metadata and has given us (arguably) better recommendations. It is more likely that Marvels or DC comics fans will like the movies of the same production house. Therefore, to our features above we can add *production_company* . \n",
    "We can also increase the weight of the director , by adding the feature multiple times in the soup."
   ]
  },
  {
   "cell_type": "markdown",
   "metadata": {
    "_uuid": "71b15b5c090694303fa5e8d67b8bf394e07f45d6"
   },
   "source": [
    "# **Collaborative Filtering**\n",
    "\n",
    "Our content based engine suffers from some severe limitations. It is only capable of suggesting movies which are close to a certain movie. That is, it is not capable of capturing tastes and providing recommendations across genres.\n",
    "\n",
    "Also, the engine that we built is not really personal in that it doesn't capture the personal tastes and biases of a user. Anyone querying our engine for recommendations based on a movie will receive the same recommendations for that movie, regardless of who she/he is.\n",
    "\n",
    "Therefore, in this section, we will use a technique called Collaborative Filtering to make recommendations to Movie Watchers.\n",
    "It is basically of two types:-\n",
    "\n",
    "*  **User based filtering**-  These systems recommend products to a user that similar users have liked. For measuring the similarity between two users we can either use pearson correlation or cosine similarity.\n",
    "This filtering technique can be illustrated with an example. In the following matrixes, each row represents a user, while the columns correspond to different movies except the last one which records the similarity between that user and the target user. Each cell represents the rating that the user gives to that movie. Assume user E is the target.\n",
    "![](https://cdn-images-1.medium.com/max/1000/1*9NBFo4AUQABKfoUOpE3F8Q.png)\n",
    "\n",
    "Since user A and F do not share any movie ratings in common with user E, their similarities with user E are not defined in Pearson Correlation. Therefore, we only need to consider user B, C, and D. Based on Pearson Correlation, we can compute the following similarity.\n",
    "![](https://cdn-images-1.medium.com/max/1000/1*jZIMJzKM1hKTFftHfcSxRw.png)\n",
    "\n",
    "From the above table we can see that user D is very different from user E as the Pearson Correlation between them is negative. He rated Me Before You higher than his rating average, while user E did the opposite. Now, we can start to fill in the blank for the movies that user E has not rated based on other users.\n",
    "![](https://cdn-images-1.medium.com/max/1000/1*9TC6BrfxYttJwiATFAIFBg.png)\n",
    "\n",
    "Although computing user-based CF is very simple, it suffers from several problems. One main issue is that users’ preference can change over time. It indicates that precomputing the matrix based on their neighboring users may lead to bad performance. To tackle this problem, we can apply item-based CF.\n",
    "\n",
    "* **Item Based Collaborative Filtering** - Instead of measuring the similarity between users, the item-based CF recommends items based on their similarity with the items that the target user rated. Likewise, the similarity can be computed with Pearson Correlation or Cosine Similarity. The major difference is that, with item-based collaborative filtering, we fill in the blank vertically, as oppose to the horizontal manner that user-based CF does. The following table shows how to do so for the movie Me Before You.\n",
    "![](https://cdn-images-1.medium.com/max/1000/1*LqFnWb-cm92HoMYBL840Ew.png)\n",
    "\n",
    "It successfully avoids the problem posed by dynamic user preference as item-based CF is more static. However, several problems remain for this method. First, the main issue is ***scalability***. The computation grows with both the customer and the product. The worst case complexity is O(mn) with m users and n items. In addition, ***sparsity*** is another concern. Take a look at the above table again. Although there is only one user that rated both Matrix and Titanic rated, the similarity between them is 1. In extreme cases, we can have millions of users and the similarity between two fairly different movies could be very high simply because they have similar rank for the only user who ranked them both.\n",
    "\n"
   ]
  },
  {
   "cell_type": "markdown",
   "metadata": {
    "_uuid": "4307f75107f9c5e5f911d52a6f1dc5530990c75e"
   },
   "source": [
    "### **Single Value Decomposition**\n",
    "One way to handle the scalability and sparsity issue created by CF is to leverage a **latent factor model** to capture the similarity between users and items. Essentially, we want to turn the recommendation problem into an optimization problem. We can view it as how good we are in predicting the rating for items given a user. One common metric is Root Mean Square Error (RMSE). **The lower the RMSE, the better the performance**.\n",
    "\n",
    "Now talking about latent factor you might be wondering what is it ?It is a broad idea which describes a property or concept that a user or an item have. For instance, for music, latent factor can refer to the genre that the music belongs to. SVD decreases the dimension of the utility matrix by extracting its latent factors. Essentially, we map each user and each item into a latent space with dimension r. Therefore, it helps us better understand the relationship between users and items as they become directly comparable. The below figure illustrates this idea.\n",
    "\n",
    "![](https://cdn-images-1.medium.com/max/800/1*GUw90kG2ltTd2k_iv3Vo0Q.png)"
   ]
  },
  {
   "cell_type": "markdown",
   "metadata": {
    "_uuid": "defca8163cfc24a97bee620d6a3d501aa2ec95ae"
   },
   "source": [
    "Now enough said , let's see how to implement this.\n",
    "Since the dataset we used before did not have userId(which is necessary for collaborative filtering) let's load another dataset. We'll be using the [**Surprise** ](https://surprise.readthedocs.io/en/stable/index.html) library to implement SVD."
   ]
  },
  {
   "cell_type": "code",
   "execution_count": 31,
   "metadata": {
    "_uuid": "9a7faf48bf42293d18b29efac95e15010f6c900e",
    "execution": {
     "iopub.execute_input": "2025-06-13T20:34:36.252821Z",
     "iopub.status.busy": "2025-06-13T20:34:36.252627Z",
     "iopub.status.idle": "2025-06-13T20:34:36.439510Z",
     "shell.execute_reply": "2025-06-13T20:34:36.438713Z",
     "shell.execute_reply.started": "2025-06-13T20:34:36.252785Z"
    },
    "trusted": true
   },
   "outputs": [
    {
     "data": {
      "text/html": [
       "<div>\n",
       "<style scoped>\n",
       "    .dataframe tbody tr th:only-of-type {\n",
       "        vertical-align: middle;\n",
       "    }\n",
       "\n",
       "    .dataframe tbody tr th {\n",
       "        vertical-align: top;\n",
       "    }\n",
       "\n",
       "    .dataframe thead th {\n",
       "        text-align: right;\n",
       "    }\n",
       "</style>\n",
       "<table border=\"1\" class=\"dataframe\">\n",
       "  <thead>\n",
       "    <tr style=\"text-align: right;\">\n",
       "      <th></th>\n",
       "      <th>userId</th>\n",
       "      <th>movieId</th>\n",
       "      <th>rating</th>\n",
       "      <th>timestamp</th>\n",
       "    </tr>\n",
       "  </thead>\n",
       "  <tbody>\n",
       "    <tr>\n",
       "      <th>0</th>\n",
       "      <td>1</td>\n",
       "      <td>31</td>\n",
       "      <td>2.5</td>\n",
       "      <td>1260759144</td>\n",
       "    </tr>\n",
       "    <tr>\n",
       "      <th>1</th>\n",
       "      <td>1</td>\n",
       "      <td>1029</td>\n",
       "      <td>3.0</td>\n",
       "      <td>1260759179</td>\n",
       "    </tr>\n",
       "    <tr>\n",
       "      <th>2</th>\n",
       "      <td>1</td>\n",
       "      <td>1061</td>\n",
       "      <td>3.0</td>\n",
       "      <td>1260759182</td>\n",
       "    </tr>\n",
       "    <tr>\n",
       "      <th>3</th>\n",
       "      <td>1</td>\n",
       "      <td>1129</td>\n",
       "      <td>2.0</td>\n",
       "      <td>1260759185</td>\n",
       "    </tr>\n",
       "    <tr>\n",
       "      <th>4</th>\n",
       "      <td>1</td>\n",
       "      <td>1172</td>\n",
       "      <td>4.0</td>\n",
       "      <td>1260759205</td>\n",
       "    </tr>\n",
       "  </tbody>\n",
       "</table>\n",
       "</div>"
      ],
      "text/plain": [
       "   userId  movieId  rating   timestamp\n",
       "0       1       31     2.5  1260759144\n",
       "1       1     1029     3.0  1260759179\n",
       "2       1     1061     3.0  1260759182\n",
       "3       1     1129     2.0  1260759185\n",
       "4       1     1172     4.0  1260759205"
      ]
     },
     "execution_count": 31,
     "metadata": {},
     "output_type": "execute_result"
    }
   ],
   "source": [
    "ratings = pd.read_csv('dataset/the-movies-dataset/ratings_small.csv')\n",
    "ratings.head()"
   ]
  },
  {
   "cell_type": "markdown",
   "metadata": {
    "_uuid": "f8a5cd5580510c27846a564bfa6d13f1a6dfa6de"
   },
   "source": [
    "Note that in this dataset movies are rated on a scale of 5 unlike the earlier one."
   ]
  },
  {
   "cell_type": "code",
   "execution_count": 32,
   "metadata": {},
   "outputs": [
    {
     "data": {
      "text/plain": [
       "userId       0\n",
       "movieId      0\n",
       "rating       0\n",
       "timestamp    0\n",
       "dtype: int64"
      ]
     },
     "execution_count": 32,
     "metadata": {},
     "output_type": "execute_result"
    }
   ],
   "source": [
    "ratings.isnull().sum()"
   ]
  },
  {
   "cell_type": "code",
   "execution_count": 33,
   "metadata": {},
   "outputs": [],
   "source": [
    "# Replacing infinite values with NaN\n",
    "ratings.replace([np.inf, -np.inf], np.nan, inplace=True)"
   ]
  },
  {
   "cell_type": "code",
   "execution_count": 34,
   "metadata": {},
   "outputs": [
    {
     "data": {
      "image/png": "[encoded data removed]",
      "text/plain": [
       "<Figure size 800x600 with 1 Axes>"
      ]
     },
     "metadata": {},
     "output_type": "display_data"
    }
   ],
   "source": [
    "# Distribution of ratings\n",
    "plt.figure(figsize=(8, 6))\n",
    "sns.countplot(x='rating', data=ratings)\n",
    "plt.title('Distribution of Ratings')\n",
    "plt.xlabel('Rating')\n",
    "plt.ylabel('Count')\n",
    "plt.show()"
   ]
  },
  {
   "cell_type": "code",
   "execution_count": 35,
   "metadata": {},
   "outputs": [
    {
     "data": {
      "image/png": "[encoded data removed]",
      "text/plain": [
       "<Figure size 800x600 with 1 Axes>"
      ]
     },
     "metadata": {},
     "output_type": "display_data"
    }
   ],
   "source": [
    "# Number of ratings per user\n",
    "ratings_per_user = ratings.groupby('userId')['rating'].count()\n",
    "plt.figure(figsize=(8, 6))\n",
    "sns.histplot(ratings_per_user, bins=30, kde=False)\n",
    "plt.title('Number of Ratings per User')\n",
    "plt.xlabel('Number of Ratings')\n",
    "plt.ylabel('Number of Users')\n",
    "plt.show()"
   ]
  },
  {
   "cell_type": "code",
   "execution_count": 36,
   "metadata": {},
   "outputs": [],
   "source": [
    "df = ratings"
   ]
  },
  {
   "cell_type": "markdown",
   "metadata": {},
   "source": [
    "**TRAINING**"
   ]
  },
  {
   "cell_type": "code",
   "execution_count": 37,
   "metadata": {},
   "outputs": [],
   "source": [
    "from utils import validate_model, save_model, load_model, generate_recommendations"
   ]
  },
  {
   "cell_type": "code",
   "execution_count": 38,
   "metadata": {},
   "outputs": [
    {
     "name": "stdout",
     "output_type": "stream",
     "text": [
      "Evaluating and saving SVD Model:\n",
      "RMSE: 0.8923\n",
      "MAE:  0.6865\n",
      "Evaluating RMSE, MAE of algorithm SVD on 5 split(s).\n",
      "\n",
      "                  Fold 1  Fold 2  Fold 3  Fold 4  Fold 5  Mean    Std     \n",
      "RMSE (testset)    0.8976  0.8935  0.8954  0.9069  0.8900  0.8967  0.0057  \n",
      "MAE (testset)     0.6913  0.6862  0.6872  0.7024  0.6861  0.6907  0.0062  \n",
      "Fit time          0.98    0.89    0.80    0.92    0.86    0.89    0.06    \n",
      "Test time         0.12    0.07    0.23    0.10    0.08    0.12    0.06    \n",
      "Model: SVD, RMSE: 0.8922511399631914, MAE: 0.6865289558661058\n",
      "Model saved to models/svd_model.pkl\n",
      "\n",
      "Evaluating and saving NMF Model:\n",
      "RMSE: 0.9527\n",
      "MAE:  0.7287\n",
      "Evaluating RMSE, MAE of algorithm NMF on 5 split(s).\n",
      "\n",
      "                  Fold 1  Fold 2  Fold 3  Fold 4  Fold 5  Mean    Std     \n",
      "RMSE (testset)    0.9501  0.9506  0.9502  0.9511  0.9398  0.9484  0.0043  \n",
      "MAE (testset)     0.7294  0.7321  0.7312  0.7295  0.7213  0.7287  0.0038  \n",
      "Fit time          1.68    1.75    1.87    1.70    1.80    1.76    0.07    \n",
      "Test time         0.06    0.07    0.09    0.18    0.06    0.09    0.04    \n",
      "Model: NMF, RMSE: 0.9527034011589526, MAE: 0.7286913720753211\n",
      "Model saved to models/nmf_model.pkl\n",
      "Model loaded from models/svd_model.pkl\n",
      "Model loaded from models/nmf_model.pkl\n",
      "\n",
      "SVD\n",
      "Top 10 recommendations for User 1:\n",
      "Movie ID: 318, Estimated Rating: 4.12\n",
      "Movie ID: 858, Estimated Rating: 3.87\n",
      "Movie ID: 1276, Estimated Rating: 3.82\n",
      "Movie ID: 50, Estimated Rating: 3.81\n",
      "Movie ID: 1196, Estimated Rating: 3.80\n",
      "Movie ID: 608, Estimated Rating: 3.79\n",
      "Movie ID: 1228, Estimated Rating: 3.79\n",
      "Movie ID: 1207, Estimated Rating: 3.75\n",
      "Movie ID: 2762, Estimated Rating: 3.75\n",
      "Movie ID: 86882, Estimated Rating: 3.73\n",
      "\n",
      "NMF\n",
      "Top 10 recommendations for User 1:\n",
      "Movie ID: 83411, Estimated Rating: 4.34\n",
      "Movie ID: 4873, Estimated Rating: 4.17\n",
      "Movie ID: 1649, Estimated Rating: 4.14\n",
      "Movie ID: 3823, Estimated Rating: 4.13\n",
      "Movie ID: 83318, Estimated Rating: 4.11\n",
      "Movie ID: 3503, Estimated Rating: 4.09\n",
      "Movie ID: 8797, Estimated Rating: 4.03\n",
      "Movie ID: 98126, Estimated Rating: 3.99\n",
      "Movie ID: 1227, Estimated Rating: 3.98\n",
      "Movie ID: 5179, Estimated Rating: 3.97\n"
     ]
    }
   ],
   "source": [
    "if __name__ == \"__main__\":\n",
    "    # Train, validate, and save SVD model\n",
    "    print(\"Evaluating and saving SVD Model:\")\n",
    "    svd_model = validate_model(df, 'SVD')\n",
    "    save_model(svd_model, 'models/svd_model.pkl')\n",
    "\n",
    "    # Train, validate, and save NMF model\n",
    "    print()\n",
    "    print(\"Evaluating and saving NMF Model:\")\n",
    "    nmf_model = validate_model(df, 'NMF')\n",
    "    save_model(nmf_model, 'models/nmf_model.pkl')\n",
    "\n",
    "    # Load models and generate recommendations\n",
    "    svd_model = load_model('models/svd_model.pkl')\n",
    "    nmf_model = load_model('models/nmf_model.pkl')\n",
    "    user_id = 1\n",
    "    print()\n",
    "    print(\"SVD\")\n",
    "    generate_recommendations(user_id, svd_model, df)\n",
    "    print()\n",
    "    print(\"NMF\")\n",
    "    generate_recommendations(user_id, nmf_model, df)"
   ]
  },
  {
   "cell_type": "code",
   "execution_count": 39,
   "metadata": {},
   "outputs": [
    {
     "name": "stdout",
     "output_type": "stream",
     "text": [
      "Top 10 recommendations for User 10:\n",
      "Movie ID: 527, Estimated Rating: 4.49\n",
      "Movie ID: 903, Estimated Rating: 4.46\n",
      "Movie ID: 2318, Estimated Rating: 4.39\n",
      "Movie ID: 7153, Estimated Rating: 4.34\n",
      "Movie ID: 1223, Estimated Rating: 4.33\n",
      "Movie ID: 745, Estimated Rating: 4.32\n",
      "Movie ID: 1233, Estimated Rating: 4.31\n",
      "Movie ID: 912, Estimated Rating: 4.31\n",
      "Movie ID: 1228, Estimated Rating: 4.29\n",
      "Movie ID: 969, Estimated Rating: 4.28\n"
     ]
    }
   ],
   "source": [
    "generate_recommendations(10, svd_model, df)"
   ]
  },
  {
   "cell_type": "code",
   "execution_count": 40,
   "metadata": {},
   "outputs": [
    {
     "name": "stdout",
     "output_type": "stream",
     "text": [
      "Top 10 recommendations for User 10:\n",
      "Movie ID: 4873, Estimated Rating: 5.00\n",
      "Movie ID: 8264, Estimated Rating: 5.00\n",
      "Movie ID: 116897, Estimated Rating: 5.00\n",
      "Movie ID: 121231, Estimated Rating: 5.00\n",
      "Movie ID: 714, Estimated Rating: 5.00\n",
      "Movie ID: 5017, Estimated Rating: 5.00\n",
      "Movie ID: 5114, Estimated Rating: 5.00\n",
      "Movie ID: 26242, Estimated Rating: 5.00\n",
      "Movie ID: 3357, Estimated Rating: 5.00\n",
      "Movie ID: 97957, Estimated Rating: 5.00\n"
     ]
    }
   ],
   "source": [
    "generate_recommendations(10, nmf_model, df)\n"
   ]
  },
  {
   "cell_type": "code",
   "execution_count": null,
   "metadata": {},
   "outputs": [],
   "source": []
  }
 ],
 "metadata": {
  "kaggle": {
   "accelerator": "none",
   "dataSources": [
    {
     "datasetId": 138,
     "sourceId": 4508,
     "sourceType": "datasetVersion"
    },
    {
     "datasetId": 3405,
     "sourceId": 6663,
     "sourceType": "datasetVersion"
    }
   ],
   "dockerImageVersionId": 20477,
   "isGpuEnabled": false,
   "isInternetEnabled": false,
   "language": "python",
   "sourceType": "notebook"
  },
  "kernelspec": {
   "display_name": "env",
   "language": "python",
   "name": "python3"
  },
  "language_info": {
   "codemirror_mode": {
    "name": "ipython",
    "version": 3
   },
   "file_extension": ".py",
   "mimetype": "text/x-python",
   "name": "python",
   "nbconvert_exporter": "python",
   "pygments_lexer": "ipython3",
   "version": "3.9.0"
  }
 },
 "nbformat": 4,
 "nbformat_minor": 4
}
